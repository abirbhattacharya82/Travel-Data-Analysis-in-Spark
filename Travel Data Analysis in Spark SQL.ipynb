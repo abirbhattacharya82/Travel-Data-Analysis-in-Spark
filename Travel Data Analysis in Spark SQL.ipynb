{
 "cells": [
  {
   "cell_type": "markdown",
   "metadata": {
    "application/vnd.databricks.v1+cell": {
     "cellMetadata": {},
     "inputWidgets": {},
     "nuid": "11a20445-70a9-43a7-bf01-75bc7e20cdeb",
     "showTitle": false,
     "title": ""
    }
   },
   "source": [
    "# Travel Data Analysis"
   ]
  },
  {
   "cell_type": "markdown",
   "metadata": {
    "application/vnd.databricks.v1+cell": {
     "cellMetadata": {},
     "inputWidgets": {},
     "nuid": "b5b998ee-8610-45aa-acd0-ae3faaa72ff0",
     "showTitle": false,
     "title": ""
    }
   },
   "source": [
    "### Importing Required Libraries"
   ]
  },
  {
   "cell_type": "code",
   "execution_count": 0,
   "metadata": {
    "application/vnd.databricks.v1+cell": {
     "cellMetadata": {
      "byteLimit": 2048000,
      "rowLimit": 10000
     },
     "inputWidgets": {},
     "nuid": "342c6f61-94db-4ac2-9e50-bdbc24efdf18",
     "showTitle": false,
     "title": ""
    }
   },
   "outputs": [],
   "source": [
    "from pyspark.sql import SparkSession\n",
    "spark=SparkSession.builder.appName(\"Travel Data Analysis using Pyspark\").getOrCreate()"
   ]
  },
  {
   "cell_type": "markdown",
   "metadata": {
    "application/vnd.databricks.v1+cell": {
     "cellMetadata": {},
     "inputWidgets": {},
     "nuid": "d662be7c-4157-4b31-9954-331ec44a9c66",
     "showTitle": false,
     "title": ""
    }
   },
   "source": [
    "### Declaring Schema and Importing Required Datasets"
   ]
  },
  {
   "cell_type": "code",
   "execution_count": 0,
   "metadata": {
    "application/vnd.databricks.v1+cell": {
     "cellMetadata": {
      "byteLimit": 2048000,
      "rowLimit": 10000
     },
     "inputWidgets": {},
     "nuid": "4e2450b9-3d89-4083-b9e7-4d2d3c4f9ad6",
     "showTitle": false,
     "title": ""
    }
   },
   "outputs": [
    {
     "output_type": "stream",
     "name": "stdout",
     "output_type": "stream",
     "text": [
      "+--------+------------+----------+-----------+---------------+----------------+-----------------+--------------+---------------+--------------------+--------------------+------------+--------+----------+---------+\n|CityPair|FromLocation|ToLocation|ProductType|AdultsTraveling|SeniorsTraveling|ChildrenTraveling|YouthTraveling|InfantTraveling|        DateOfTravel|        DateOfReturn|AirlinePrice|CarPrice|HotelPrice|HotelName|\n+--------+------------+----------+-----------+---------------+----------------+-----------------+--------------+---------------+--------------------+--------------------+------------+--------+----------+---------+\n| ZIH-ZIH|         ZIH|       ZIH|          4|              2|               0|                0|             0|              0|2014-10-23 00:00:...|2014-10-25 00:00:...|         0.0|     0.0|    2003.2|     null|\n| ZIH-ZIH|         ZIH|       ZIH|          4|              2|               0|                0|             0|              0|2014-10-23 00:00:...|2014-10-25 00:00:...|         0.0|     0.0|   1556.76|     null|\n| YYZ-YYZ|         YYZ|       YYZ|          4|              1|               2|                0|             0|              0|2014-11-24 00:00:...|2014-11-26 00:00:...|         0.0|     0.0|    268.02|     null|\n| YYZ-YYZ|         YYZ|       YYZ|          4|              1|               2|                0|             0|              0|2014-11-24 00:00:...|2014-11-26 00:00:...|         0.0|     0.0|    674.36|     null|\n| YYZ-YYZ|         YYZ|       YYZ|          2|              0|               1|                0|             0|              0|2014-11-11 08:00:...|2014-11-14 08:00:...|         0.0|  254.19|       0.0|     null|\n| YYZ-YYZ|         YYZ|       YYZ|          4|              1|               0|                0|             0|              0|2015-02-16 00:00:...|2015-02-22 00:00:...|         0.0|     0.0|    916.46|     null|\n| YYC-YYC|         YYC|       YYC|          4|              1|               0|                0|             0|              0|2014-02-03 00:00:...|2014-02-08 00:00:...|         0.0|     0.0|    903.36|     null|\n| YYC-YYC|         YYC|       YYC|          4|              2|               0|                0|             0|              2|2014-06-21 00:00:...|2014-06-25 00:00:...|         0.0|     0.0|   1107.14|     null|\n| YVR-YYZ|         YVR|       YYZ|          7|              1|               1|                0|             0|              0|2015-01-12 00:00:...|2015-01-15 00:00:...|      4351.4|  176.85|    238.14|       AC|\n| YVR-YYZ|         YVR|       YYZ|          7|              1|               1|                0|             0|              0|2015-01-12 00:00:...|2015-01-15 00:00:...|      4351.4|  176.85|  281.4354|       AC|\n| YVR-YVR|         YVR|       YVR|          2|              1|               0|                0|             0|              0|2014-12-09 08:00:...|2014-12-11 08:00:...|         0.0|   74.97|       0.0|     null|\n| YVR-YVR|         YVR|       YVR|          4|              1|               0|                0|             0|              0|2014-12-11 00:00:...|2014-12-20 00:00:...|         0.0|     0.0|   1201.24|     null|\n| YVR-YVR|         YVR|       YVR|          6|              1|               1|                0|             0|              1|2015-05-11 00:00:...|2015-05-14 00:00:...|         0.0|  104.84|    254.37|     null|\n| YVR-SSA|         YVR|       SSA|          1|              1|               1|                0|             0|              0|2014-12-19 00:00:...|1753-01-01 00:00:...|      2490.0|     0.0|       0.0|       JJ|\n| YVR-SFO|         YVR|       SFO|          1|              2|               0|                0|             0|              0|2014-09-17 00:00:...|2014-09-20 00:00:...|      567.32|     0.0|       0.0|       DL|\n| YVR-SFO|         YVR|       SFO|          1|              1|               0|                0|             0|              0|2014-09-17 00:00:...|1753-01-01 00:00:...|      167.75|     0.0|       0.0|       AC|\n| YVR-LAX|         YVR|       LAX|          1|              1|               0|                0|             0|              0|2014-09-17 00:00:...|1753-01-01 00:00:...|      146.43|     0.0|       0.0|       AS|\n| YVR-HKG|         YVR|       HKG|          1|              0|               2|                0|             0|              0|2014-07-15 00:00:...|1753-01-01 00:00:...|      1538.8|     0.0|       0.0|       CA|\n| YBA-YBA|         YBA|       YBA|          4|              1|               0|                0|             0|              0|2014-02-24 00:00:...|2014-02-28 00:00:...|         0.0|     0.0|   454.712|     null|\n| YBA-YBA|         YBA|       YBA|          4|              1|               0|                0|             0|              0|2014-03-23 00:00:...|2014-03-29 00:00:...|         0.0|     0.0|    613.28|     null|\n+--------+------------+----------+-----------+---------------+----------------+-----------------+--------------+---------------+--------------------+--------------------+------------+--------+----------+---------+\nonly showing top 20 rows\n\n"
     ]
    }
   ],
   "source": [
    "from pyspark.sql.types import StructType, StructField, StringType, IntegerType, FloatType\n",
    "custom_schema = StructType([\n",
    "    StructField(\"CityPair\", StringType(), True),\n",
    "    StructField(\"FromLocation\", StringType(), True),\n",
    "    StructField(\"ToLocation\", StringType(), True),\n",
    "    StructField(\"ProductType\", IntegerType(), True),\n",
    "    StructField(\"AdultsTraveling\", IntegerType(), True),\n",
    "    StructField(\"SeniorsTraveling\", IntegerType(), True),\n",
    "    StructField(\"ChildrenTraveling\", IntegerType(), True),\n",
    "    StructField(\"YouthTraveling\", IntegerType(), True),\n",
    "    StructField(\"InfantTraveling\", IntegerType(), True),\n",
    "    StructField(\"DateOfTravel\", StringType(), True),\n",
    "    StructField(\"DateOfReturn\", StringType(), True),\n",
    "    StructField(\"AirlinePrice\", FloatType(), True),\n",
    "    StructField(\"CarPrice\", FloatType(), True),\n",
    "    StructField(\"HotelPrice\", FloatType(), True),\n",
    "    StructField(\"HotelName\", StringType(), True)\n",
    "])\n",
    "\n",
    "df = spark.read.format(\"csv\") \\\n",
    "    .option(\"delimiter\", \"\\t\") \\\n",
    "    .schema(custom_schema) \\\n",
    "    .load(\"/FileStore/tables/TravelData/TravelDataset.txt\")\n",
    "df.show()"
   ]
  },
  {
   "cell_type": "markdown",
   "metadata": {
    "application/vnd.databricks.v1+cell": {
     "cellMetadata": {},
     "inputWidgets": {},
     "nuid": "077f7b6b-e0d9-457a-892d-b0dd63cd6b4b",
     "showTitle": false,
     "title": ""
    }
   },
   "source": [
    "### Converting Dataframe to Temporary View"
   ]
  },
  {
   "cell_type": "code",
   "execution_count": 0,
   "metadata": {
    "application/vnd.databricks.v1+cell": {
     "cellMetadata": {
      "byteLimit": 2048000,
      "rowLimit": 10000
     },
     "inputWidgets": {},
     "nuid": "243109e0-e1ce-44ba-9c42-22734cf113fc",
     "showTitle": false,
     "title": ""
    }
   },
   "outputs": [
    {
     "output_type": "stream",
     "name": "stdout",
     "output_type": "stream",
     "text": [
      "+--------+------------+----------+-----------+---------------+----------------+-----------------+--------------+---------------+--------------------+--------------------+------------+--------+----------+---------+\n|CityPair|FromLocation|ToLocation|ProductType|AdultsTraveling|SeniorsTraveling|ChildrenTraveling|YouthTraveling|InfantTraveling|        DateOfTravel|        DateOfReturn|AirlinePrice|CarPrice|HotelPrice|HotelName|\n+--------+------------+----------+-----------+---------------+----------------+-----------------+--------------+---------------+--------------------+--------------------+------------+--------+----------+---------+\n| ZIH-ZIH|         ZIH|       ZIH|          4|              2|               0|                0|             0|              0|2014-10-23 00:00:...|2014-10-25 00:00:...|         0.0|     0.0|    2003.2|     null|\n| ZIH-ZIH|         ZIH|       ZIH|          4|              2|               0|                0|             0|              0|2014-10-23 00:00:...|2014-10-25 00:00:...|         0.0|     0.0|   1556.76|     null|\n| YYZ-YYZ|         YYZ|       YYZ|          4|              1|               2|                0|             0|              0|2014-11-24 00:00:...|2014-11-26 00:00:...|         0.0|     0.0|    268.02|     null|\n| YYZ-YYZ|         YYZ|       YYZ|          4|              1|               2|                0|             0|              0|2014-11-24 00:00:...|2014-11-26 00:00:...|         0.0|     0.0|    674.36|     null|\n| YYZ-YYZ|         YYZ|       YYZ|          2|              0|               1|                0|             0|              0|2014-11-11 08:00:...|2014-11-14 08:00:...|         0.0|  254.19|       0.0|     null|\n| YYZ-YYZ|         YYZ|       YYZ|          4|              1|               0|                0|             0|              0|2015-02-16 00:00:...|2015-02-22 00:00:...|         0.0|     0.0|    916.46|     null|\n| YYC-YYC|         YYC|       YYC|          4|              1|               0|                0|             0|              0|2014-02-03 00:00:...|2014-02-08 00:00:...|         0.0|     0.0|    903.36|     null|\n| YYC-YYC|         YYC|       YYC|          4|              2|               0|                0|             0|              2|2014-06-21 00:00:...|2014-06-25 00:00:...|         0.0|     0.0|   1107.14|     null|\n| YVR-YYZ|         YVR|       YYZ|          7|              1|               1|                0|             0|              0|2015-01-12 00:00:...|2015-01-15 00:00:...|      4351.4|  176.85|    238.14|       AC|\n| YVR-YYZ|         YVR|       YYZ|          7|              1|               1|                0|             0|              0|2015-01-12 00:00:...|2015-01-15 00:00:...|      4351.4|  176.85|  281.4354|       AC|\n| YVR-YVR|         YVR|       YVR|          2|              1|               0|                0|             0|              0|2014-12-09 08:00:...|2014-12-11 08:00:...|         0.0|   74.97|       0.0|     null|\n| YVR-YVR|         YVR|       YVR|          4|              1|               0|                0|             0|              0|2014-12-11 00:00:...|2014-12-20 00:00:...|         0.0|     0.0|   1201.24|     null|\n| YVR-YVR|         YVR|       YVR|          6|              1|               1|                0|             0|              1|2015-05-11 00:00:...|2015-05-14 00:00:...|         0.0|  104.84|    254.37|     null|\n| YVR-SSA|         YVR|       SSA|          1|              1|               1|                0|             0|              0|2014-12-19 00:00:...|1753-01-01 00:00:...|      2490.0|     0.0|       0.0|       JJ|\n| YVR-SFO|         YVR|       SFO|          1|              2|               0|                0|             0|              0|2014-09-17 00:00:...|2014-09-20 00:00:...|      567.32|     0.0|       0.0|       DL|\n| YVR-SFO|         YVR|       SFO|          1|              1|               0|                0|             0|              0|2014-09-17 00:00:...|1753-01-01 00:00:...|      167.75|     0.0|       0.0|       AC|\n| YVR-LAX|         YVR|       LAX|          1|              1|               0|                0|             0|              0|2014-09-17 00:00:...|1753-01-01 00:00:...|      146.43|     0.0|       0.0|       AS|\n| YVR-HKG|         YVR|       HKG|          1|              0|               2|                0|             0|              0|2014-07-15 00:00:...|1753-01-01 00:00:...|      1538.8|     0.0|       0.0|       CA|\n| YBA-YBA|         YBA|       YBA|          4|              1|               0|                0|             0|              0|2014-02-24 00:00:...|2014-02-28 00:00:...|         0.0|     0.0|   454.712|     null|\n| YBA-YBA|         YBA|       YBA|          4|              1|               0|                0|             0|              0|2014-03-23 00:00:...|2014-03-29 00:00:...|         0.0|     0.0|    613.28|     null|\n+--------+------------+----------+-----------+---------------+----------------+-----------------+--------------+---------------+--------------------+--------------------+------------+--------+----------+---------+\nonly showing top 20 rows\n\n"
     ]
    }
   ],
   "source": [
    "df.createOrReplaceGlobalTempView(\"Travel\")\n",
    "result=spark.sql(\"SELECT * FROM global_temp.Travel\");\n",
    "result.show()"
   ]
  },
  {
   "cell_type": "markdown",
   "metadata": {
    "application/vnd.databricks.v1+cell": {
     "cellMetadata": {
      "byteLimit": 2048000,
      "rowLimit": 10000
     },
     "inputWidgets": {},
     "nuid": "9a337ab7-9dcd-47ce-a657-5d963b7b25d8",
     "showTitle": false,
     "title": ""
    }
   },
   "source": [
    "### Problem 1\n",
    "Top 20 destination people travel the most: Based on the given data, we can find the most popular destination that people travel frequently. There are many destinations out of which we will find only first 20, based on trips booked for particular destinations."
   ]
  },
  {
   "cell_type": "code",
   "execution_count": 0,
   "metadata": {
    "application/vnd.databricks.v1+cell": {
     "cellMetadata": {
      "byteLimit": 2048000,
      "rowLimit": 10000
     },
     "inputWidgets": {},
     "nuid": "f382c809-0c7f-4937-9ae9-59f6e58dd14d",
     "showTitle": false,
     "title": ""
    }
   },
   "outputs": [
    {
     "output_type": "stream",
     "name": "stdout",
     "output_type": "stream",
     "text": [
      "+----------+---------+\n|ToLocation|Frequency|\n+----------+---------+\n|       MIA|      396|\n|       SFO|      290|\n|       LAS|      202|\n|       LAX|      162|\n|       DFW|      102|\n|       DEN|       64|\n|       ORD|       57|\n|       PHL|       54|\n|       IAH|       50|\n|       JFK|       45|\n|       PHX|       44|\n|       FLL|       40|\n|       ATL|       36|\n|       BOS|       31|\n|       MCO|       31|\n|       SAN|       27|\n|       WAS|       25|\n|       CUN|       24|\n|       AUS|       22|\n|       LON|       22|\n+----------+---------+\n\n"
     ]
    }
   ],
   "source": [
    "result=spark.sql(\"select ToLocation, count(*) as Frequency from global_temp.Travel group by ToLocation order by Frequency desc limit 20\")\n",
    "result.show()"
   ]
  },
  {
   "cell_type": "markdown",
   "metadata": {
    "application/vnd.databricks.v1+cell": {
     "cellMetadata": {},
     "inputWidgets": {},
     "nuid": "f97b2138-0284-4b37-b57b-ae165710c443",
     "showTitle": false,
     "title": ""
    }
   },
   "source": [
    "### Problem 2\n",
    "Top 20 locations from where people travel the most: We can find the places from where most of the trips are undertaken, based on the booked trip count."
   ]
  },
  {
   "cell_type": "code",
   "execution_count": 0,
   "metadata": {
    "application/vnd.databricks.v1+cell": {
     "cellMetadata": {
      "byteLimit": 2048000,
      "rowLimit": 10000
     },
     "inputWidgets": {},
     "nuid": "4341d16e-23a3-4071-885c-0d156bd98341",
     "showTitle": false,
     "title": ""
    }
   },
   "outputs": [
    {
     "output_type": "stream",
     "name": "stdout",
     "output_type": "stream",
     "text": [
      "+----------+---------+\n|ToLocation|Frequency|\n+----------+---------+\n|       MIA|      396|\n|       SFO|      290|\n|       LAS|      202|\n|       LAX|      162|\n|       DFW|      102|\n|       DEN|       64|\n|       ORD|       57|\n|       PHL|       54|\n|       IAH|       50|\n|       JFK|       45|\n|       PHX|       44|\n|       FLL|       40|\n|       ATL|       36|\n|       BOS|       31|\n|       MCO|       31|\n|       SAN|       27|\n|       WAS|       25|\n|       CUN|       24|\n|       AUS|       22|\n|       LON|       22|\n+----------+---------+\n\n"
     ]
    }
   ],
   "source": [
    "result=spark.sql(\"select ToLocation, count(*) as Frequency from global_temp.Travel group by ToLocation order by Frequency desc limit 20\")\n",
    "result.show()"
   ]
  },
  {
   "cell_type": "markdown",
   "metadata": {
    "application/vnd.databricks.v1+cell": {
     "cellMetadata": {},
     "inputWidgets": {},
     "nuid": "be33b310-822d-450b-8546-b66a43396b3c",
     "showTitle": false,
     "title": ""
    }
   },
   "source": [
    "### Problem 3\n",
    "Top 20 cities that generate high airline revenues for travel, so that the site can concentrate on offering discount on booking, to those cities to attract more bookings."
   ]
  },
  {
   "cell_type": "code",
   "execution_count": 0,
   "metadata": {
    "application/vnd.databricks.v1+cell": {
     "cellMetadata": {
      "byteLimit": 2048000,
      "rowLimit": 10000
     },
     "inputWidgets": {},
     "nuid": "d26f505e-2091-4a3a-b637-0ed57efc3f76",
     "showTitle": false,
     "title": ""
    }
   },
   "outputs": [
    {
     "output_type": "stream",
     "name": "stdout",
     "output_type": "stream",
     "text": [
      "+----------+------------------+\n|ToLocation|   Airline_Revenue|\n+----------+------------------+\n|       SFO|192705.82097625732|\n|       MIA|180603.39154052734|\n|       MLE|      175974.59375|\n|       DFW| 136412.6213531494|\n|       LAS| 96924.08037567139|\n|       DEN| 89332.37953186035|\n|       AUH| 48863.29931640625|\n|       IAH| 41028.40982055664|\n|       LON|   40217.599609375|\n|       BGO|38432.599853515625|\n|       FRA| 36816.04089355469|\n|       LAX| 36143.41011810303|\n|       JFK|28638.589920043945|\n|       BOS| 26488.99981689453|\n|       NYC| 22120.86016845703|\n|       MEM|21182.300170898438|\n|       ZRH|20985.759887695312|\n|       AMS|20306.599243164062|\n|       LGW|    18146.19921875|\n|       ORD| 18007.17010498047|\n+----------+------------------+\n\n"
     ]
    }
   ],
   "source": [
    "result=spark.sql(\"select ToLocation, sum(AirlinePrice) as Airline_Revenue from global_temp.Travel group by ToLocation order by Airline_Revenue desc limit 20\")\n",
    "result.show()"
   ]
  },
  {
   "cell_type": "code",
   "execution_count": 0,
   "metadata": {
    "application/vnd.databricks.v1+cell": {
     "cellMetadata": {},
     "inputWidgets": {},
     "nuid": "072a2b51-a258-4fab-8eb7-3ddb1a4cdbde",
     "showTitle": false,
     "title": ""
    }
   },
   "outputs": [],
   "source": []
  }
 ],
 "metadata": {
  "application/vnd.databricks.v1+notebook": {
   "dashboards": [],
   "language": "python",
   "notebookMetadata": {
    "pythonIndentUnit": 4
   },
   "notebookName": "Travel Data Analysis in Spark SQL",
   "widgets": {}
  }
 },
 "nbformat": 4,
 "nbformat_minor": 0
}
