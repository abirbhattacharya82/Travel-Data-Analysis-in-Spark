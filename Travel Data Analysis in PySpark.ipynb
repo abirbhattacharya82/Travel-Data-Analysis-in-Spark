{
 "cells": [
  {
   "cell_type": "markdown",
   "id": "157fd2ff",
   "metadata": {},
   "source": [
    "# Travel Data Analysis"
   ]
  },
  {
   "cell_type": "markdown",
   "id": "ff43c06f",
   "metadata": {},
   "source": [
    "### Importing Required Libraries"
   ]
  },
  {
   "cell_type": "code",
   "execution_count": 2,
   "id": "f4efe10c",
   "metadata": {},
   "outputs": [
    {
     "name": "stdout",
     "output_type": "stream",
     "text": [
      "Requirement already satisfied: pyspark in c:\\users\\abirbhattacharya\\anaconda3\\lib\\site-packages (3.5.1)\n",
      "Requirement already satisfied: py4j==0.10.9.7 in c:\\users\\abirbhattacharya\\anaconda3\\lib\\site-packages (from pyspark) (0.10.9.7)\n"
     ]
    }
   ],
   "source": [
    "!pip install pyspark\n",
    "import pyspark\n",
    "from pyspark.sql import SparkSession\n",
    "spark=SparkSession.builder.appName(\"Travel Data Analysis using Pyspark\").getOrCreate()"
   ]
  },
  {
   "cell_type": "markdown",
   "id": "e957ded3",
   "metadata": {},
   "source": [
    "### Declaring Schema and Importing Required Datasets"
   ]
  },
  {
   "cell_type": "code",
   "execution_count": 7,
   "id": "57ac4ec9",
   "metadata": {},
   "outputs": [],
   "source": [
    "from pyspark.sql.types import StructType, StructField, StringType, IntegerType, FloatType\n",
    "custom_schema = StructType([\n",
    "    StructField(\"CityPair\", StringType(), True),\n",
    "    StructField(\"FromLocation\", StringType(), True),\n",
    "    StructField(\"ToLocation\", StringType(), True),\n",
    "    StructField(\"ProductType\", IntegerType(), True),\n",
    "    StructField(\"AdultsTraveling\", IntegerType(), True),\n",
    "    StructField(\"SeniorsTraveling\", IntegerType(), True),\n",
    "    StructField(\"ChildrenTraveling\", IntegerType(), True),\n",
    "    StructField(\"YouthTraveling\", IntegerType(), True),\n",
    "    StructField(\"InfantTraveling\", IntegerType(), True),\n",
    "    StructField(\"DateOfTravel\", StringType(), True),\n",
    "    StructField(\"DateOfReturn\", StringType(), True),\n",
    "    StructField(\"AirlinePrice\", FloatType(), True),\n",
    "    StructField(\"CarPrice\", FloatType(), True),\n",
    "    StructField(\"HotelPrice\", FloatType(), True),\n",
    "    StructField(\"HotelName\", StringType(), True)\n",
    "])"
   ]
  },
  {
   "cell_type": "code",
   "execution_count": 9,
   "id": "3a377efc",
   "metadata": {},
   "outputs": [
    {
     "name": "stdout",
     "output_type": "stream",
     "text": [
      "+--------+------------+----------+-----------+---------------+----------------+-----------------+--------------+---------------+--------------------+--------------------+------------+--------+----------+---------+\n",
      "|CityPair|FromLocation|ToLocation|ProductType|AdultsTraveling|SeniorsTraveling|ChildrenTraveling|YouthTraveling|InfantTraveling|        DateOfTravel|        DateOfReturn|AirlinePrice|CarPrice|HotelPrice|HotelName|\n",
      "+--------+------------+----------+-----------+---------------+----------------+-----------------+--------------+---------------+--------------------+--------------------+------------+--------+----------+---------+\n",
      "| ZIH-ZIH|         ZIH|       ZIH|          4|              2|               0|                0|             0|              0|2014-10-23 00:00:...|2014-10-25 00:00:...|         0.0|     0.0|    2003.2|     null|\n",
      "| ZIH-ZIH|         ZIH|       ZIH|          4|              2|               0|                0|             0|              0|2014-10-23 00:00:...|2014-10-25 00:00:...|         0.0|     0.0|   1556.76|     null|\n",
      "| YYZ-YYZ|         YYZ|       YYZ|          4|              1|               2|                0|             0|              0|2014-11-24 00:00:...|2014-11-26 00:00:...|         0.0|     0.0|    268.02|     null|\n",
      "| YYZ-YYZ|         YYZ|       YYZ|          4|              1|               2|                0|             0|              0|2014-11-24 00:00:...|2014-11-26 00:00:...|         0.0|     0.0|    674.36|     null|\n",
      "| YYZ-YYZ|         YYZ|       YYZ|          2|              0|               1|                0|             0|              0|2014-11-11 08:00:...|2014-11-14 08:00:...|         0.0|  254.19|       0.0|     null|\n",
      "| YYZ-YYZ|         YYZ|       YYZ|          4|              1|               0|                0|             0|              0|2015-02-16 00:00:...|2015-02-22 00:00:...|         0.0|     0.0|    916.46|     null|\n",
      "| YYC-YYC|         YYC|       YYC|          4|              1|               0|                0|             0|              0|2014-02-03 00:00:...|2014-02-08 00:00:...|         0.0|     0.0|    903.36|     null|\n",
      "| YYC-YYC|         YYC|       YYC|          4|              2|               0|                0|             0|              2|2014-06-21 00:00:...|2014-06-25 00:00:...|         0.0|     0.0|   1107.14|     null|\n",
      "| YVR-YYZ|         YVR|       YYZ|          7|              1|               1|                0|             0|              0|2015-01-12 00:00:...|2015-01-15 00:00:...|      4351.4|  176.85|    238.14|       AC|\n",
      "| YVR-YYZ|         YVR|       YYZ|          7|              1|               1|                0|             0|              0|2015-01-12 00:00:...|2015-01-15 00:00:...|      4351.4|  176.85|  281.4354|       AC|\n",
      "| YVR-YVR|         YVR|       YVR|          2|              1|               0|                0|             0|              0|2014-12-09 08:00:...|2014-12-11 08:00:...|         0.0|   74.97|       0.0|     null|\n",
      "| YVR-YVR|         YVR|       YVR|          4|              1|               0|                0|             0|              0|2014-12-11 00:00:...|2014-12-20 00:00:...|         0.0|     0.0|   1201.24|     null|\n",
      "| YVR-YVR|         YVR|       YVR|          6|              1|               1|                0|             0|              1|2015-05-11 00:00:...|2015-05-14 00:00:...|         0.0|  104.84|    254.37|     null|\n",
      "| YVR-SSA|         YVR|       SSA|          1|              1|               1|                0|             0|              0|2014-12-19 00:00:...|1753-01-01 00:00:...|      2490.0|     0.0|       0.0|       JJ|\n",
      "| YVR-SFO|         YVR|       SFO|          1|              2|               0|                0|             0|              0|2014-09-17 00:00:...|2014-09-20 00:00:...|      567.32|     0.0|       0.0|       DL|\n",
      "| YVR-SFO|         YVR|       SFO|          1|              1|               0|                0|             0|              0|2014-09-17 00:00:...|1753-01-01 00:00:...|      167.75|     0.0|       0.0|       AC|\n",
      "| YVR-LAX|         YVR|       LAX|          1|              1|               0|                0|             0|              0|2014-09-17 00:00:...|1753-01-01 00:00:...|      146.43|     0.0|       0.0|       AS|\n",
      "| YVR-HKG|         YVR|       HKG|          1|              0|               2|                0|             0|              0|2014-07-15 00:00:...|1753-01-01 00:00:...|      1538.8|     0.0|       0.0|       CA|\n",
      "| YBA-YBA|         YBA|       YBA|          4|              1|               0|                0|             0|              0|2014-02-24 00:00:...|2014-02-28 00:00:...|         0.0|     0.0|   454.712|     null|\n",
      "| YBA-YBA|         YBA|       YBA|          4|              1|               0|                0|             0|              0|2014-03-23 00:00:...|2014-03-29 00:00:...|         0.0|     0.0|    613.28|     null|\n",
      "+--------+------------+----------+-----------+---------------+----------------+-----------------+--------------+---------------+--------------------+--------------------+------------+--------+----------+---------+\n",
      "only showing top 20 rows\n",
      "\n"
     ]
    }
   ],
   "source": [
    "df = spark.read.format(\"csv\") \\\n",
    "    .option(\"delimiter\", \"\\t\") \\\n",
    "    .schema(custom_schema) \\\n",
    "    .load(\"TravelDataset.txt\")\n",
    "df.show()"
   ]
  },
  {
   "cell_type": "markdown",
   "id": "cd67295e",
   "metadata": {},
   "source": [
    "### Problem 1\n",
    "Top 20 destination people travel the most: Based on the given data, we can find the most popular destination that people travel frequently. There are many destinations out of which we will find only first 20, based on trips booked for particular destinations."
   ]
  },
  {
   "cell_type": "code",
   "execution_count": 21,
   "id": "2422de6c",
   "metadata": {},
   "outputs": [
    {
     "name": "stdout",
     "output_type": "stream",
     "text": [
      "+----------+-----+\n",
      "|ToLocation|count|\n",
      "+----------+-----+\n",
      "|       MIA|  396|\n",
      "|       SFO|  290|\n",
      "|       LAS|  202|\n",
      "|       LAX|  162|\n",
      "|       DFW|  102|\n",
      "|       DEN|   64|\n",
      "|       ORD|   57|\n",
      "|       PHL|   54|\n",
      "|       IAH|   50|\n",
      "|       JFK|   45|\n",
      "|       PHX|   44|\n",
      "|       FLL|   40|\n",
      "|       ATL|   36|\n",
      "|       BOS|   31|\n",
      "|       MCO|   31|\n",
      "|       SAN|   27|\n",
      "|       WAS|   25|\n",
      "|       CUN|   24|\n",
      "|       AUS|   22|\n",
      "|       LON|   22|\n",
      "+----------+-----+\n",
      "\n"
     ]
    }
   ],
   "source": [
    "from pyspark.sql import functions as F\n",
    "df.groupBy(\"ToLocation\").count().orderBy(F.desc(\"count\")).limit(20).show()"
   ]
  },
  {
   "cell_type": "markdown",
   "id": "33f80b20",
   "metadata": {},
   "source": [
    "### Problem 2\n",
    "Top 20 locations from where people travel the most: We can find the places from where most of the trips are undertaken, based on the booked trip count."
   ]
  },
  {
   "cell_type": "code",
   "execution_count": 22,
   "id": "6c6fdc66",
   "metadata": {},
   "outputs": [
    {
     "name": "stdout",
     "output_type": "stream",
     "text": [
      "+----------+-----+\n",
      "|ToLocation|count|\n",
      "+----------+-----+\n",
      "|       MIA|  396|\n",
      "|       SFO|  290|\n",
      "|       LAS|  202|\n",
      "|       LAX|  162|\n",
      "|       DFW|  102|\n",
      "|       DEN|   64|\n",
      "|       ORD|   57|\n",
      "|       PHL|   54|\n",
      "|       IAH|   50|\n",
      "|       JFK|   45|\n",
      "|       PHX|   44|\n",
      "|       FLL|   40|\n",
      "|       ATL|   36|\n",
      "|       BOS|   31|\n",
      "|       MCO|   31|\n",
      "|       SAN|   27|\n",
      "|       WAS|   25|\n",
      "|       CUN|   24|\n",
      "|       AUS|   22|\n",
      "|       LON|   22|\n",
      "+----------+-----+\n",
      "\n"
     ]
    }
   ],
   "source": [
    "df.groupBy(\"ToLocation\").count().orderBy(F.desc(\"count\")).limit(20).show()"
   ]
  },
  {
   "cell_type": "markdown",
   "id": "b71137b6",
   "metadata": {},
   "source": [
    "### Problem 3\n",
    "Top 20 cities that generate high airline revenues for travel, so that the site can concentrate on offering discount on booking, to those cities to attract more bookings."
   ]
  },
  {
   "cell_type": "code",
   "execution_count": 32,
   "id": "0cc482cd",
   "metadata": {
    "scrolled": true
   },
   "outputs": [
    {
     "name": "stdout",
     "output_type": "stream",
     "text": [
      "+----------+------------------+\n",
      "|ToLocation| sum(AirlinePrice)|\n",
      "+----------+------------------+\n",
      "|       SFO|192705.82097625732|\n",
      "|       MIA|180603.39154052734|\n",
      "|       MLE|      175974.59375|\n",
      "|       DFW| 136412.6213531494|\n",
      "|       LAS| 96924.08037567139|\n",
      "|       DEN| 89332.37953186035|\n",
      "|       AUH| 48863.29931640625|\n",
      "|       IAH| 41028.40982055664|\n",
      "|       LON|   40217.599609375|\n",
      "|       BGO|38432.599853515625|\n",
      "|       FRA| 36816.04089355469|\n",
      "|       LAX| 36143.41011810303|\n",
      "|       JFK|28638.589920043945|\n",
      "|       BOS| 26488.99981689453|\n",
      "|       NYC| 22120.86016845703|\n",
      "|       MEM|21182.300170898438|\n",
      "|       ZRH|20985.759887695312|\n",
      "|       AMS|20306.599243164062|\n",
      "|       LGW|    18146.19921875|\n",
      "|       ORD| 18007.17010498047|\n",
      "+----------+------------------+\n",
      "\n"
     ]
    }
   ],
   "source": [
    "df.groupBy(\"ToLocation\").sum(\"AirlinePrice\").orderBy(F.desc(\"sum(AirlinePrice)\")).limit(20).show()"
   ]
  }
 ],
 "metadata": {
  "kernelspec": {
   "display_name": "Python 3 (ipykernel)",
   "language": "python",
   "name": "python3"
  },
  "language_info": {
   "codemirror_mode": {
    "name": "ipython",
    "version": 3
   },
   "file_extension": ".py",
   "mimetype": "text/x-python",
   "name": "python",
   "nbconvert_exporter": "python",
   "pygments_lexer": "ipython3",
   "version": "3.11.5"
  }
 },
 "nbformat": 4,
 "nbformat_minor": 5
}
